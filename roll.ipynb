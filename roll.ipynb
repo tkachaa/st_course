{
 "cells": [
  {
   "cell_type": "code",
   "execution_count": 36,
   "metadata": {},
   "outputs": [],
   "source": [
    "import random\n",
    "import matplotlib.pyplot as plt"
   ]
  },
  {
   "cell_type": "code",
   "execution_count": 37,
   "metadata": {},
   "outputs": [],
   "source": [
    "#random.seed(42)"
   ]
  },
  {
   "cell_type": "code",
   "execution_count": 815,
   "metadata": {},
   "outputs": [],
   "source": [
    "numbers = 37\n",
    "rounds = 24\n",
    "stack = 2000\n",
    "chip = 5\n",
    "end = 30"
   ]
  },
  {
   "cell_type": "code",
   "execution_count": 816,
   "metadata": {},
   "outputs": [],
   "source": [
    "def play(init_stack, rounds, chip, end):\n",
    "    history_num = []\n",
    "    play_nums = []\n",
    "    stack = init_stack\n",
    "    history_stack = []\n",
    "    history_play_nums = []\n",
    "    win_count = 0\n",
    "\n",
    "    for i in range(rounds):\n",
    "        stack -= len(play_nums) * chip\n",
    "        if stack < 0:\n",
    "            break\n",
    "        \n",
    "        num = random.randint(0, numbers - 1)\n",
    "        history_num.append(num)\n",
    "        history_play_nums.append(len(play_nums))\n",
    "        \n",
    "        if len(history_num) == 1:\n",
    "            history_stack.append(stack)\n",
    "            play_nums.append(num)\n",
    "            continue\n",
    "            \n",
    "        if num not in play_nums:\n",
    "            play_nums.append(num)\n",
    "        else:\n",
    "            stack += 36 * chip\n",
    "            win_count += 1\n",
    "            \n",
    "        history_stack.append(stack)\n",
    "        \n",
    "        #if (stack - init_stack) >= end: #or stack <= (init_stack - 100):\n",
    "            #break\n",
    "            \n",
    "    return history_num[1:], history_stack[1:], history_play_nums[1:], win_count "
   ]
  },
  {
   "cell_type": "code",
   "execution_count": 830,
   "metadata": {},
   "outputs": [],
   "source": [
    "history_num, history_stack, history_play_nums, win_count = play(stack, rounds, chip, end)"
   ]
  },
  {
   "cell_type": "code",
   "execution_count": 831,
   "metadata": {},
   "outputs": [
    {
     "name": "stdout",
     "output_type": "stream",
     "text": [
      "wins :  4\n",
      "36 \t 1995 \t 1\n",
      "6 \t 1985 \t 2\n",
      "36 \t 2150 \t 3\n",
      "19 \t 2135 \t 3\n",
      "9 \t 2115 \t 4\n",
      "19 \t 2270 \t 5\n",
      "3 \t 2245 \t 5\n",
      "19 \t 2395 \t 6\n",
      "25 \t 2365 \t 6\n",
      "8 \t 2330 \t 7\n",
      "15 \t 2290 \t 8\n",
      "16 \t 2245 \t 9\n",
      "28 \t 2195 \t 10\n",
      "17 \t 2140 \t 11\n",
      "0 \t 2080 \t 12\n",
      "33 \t 2015 \t 13\n",
      "4 \t 1945 \t 14\n",
      "29 \t 1870 \t 15\n",
      "22 \t 1790 \t 16\n",
      "24 \t 1705 \t 17\n",
      "25 \t 1795 \t 18\n",
      "27 \t 1705 \t 18\n",
      "21 \t 1610 \t 19\n"
     ]
    }
   ],
   "source": [
    "print(\"wins : \", win_count)\n",
    "for i in range(len(history_num)):\n",
    "    print(history_num[i], \"\\t\", history_stack[i], \"\\t\", history_play_nums[i])"
   ]
  },
  {
   "cell_type": "code",
   "execution_count": 819,
   "metadata": {},
   "outputs": [],
   "source": [
    "h_win_count = []\n",
    "for i in range(10):\n",
    "    _, history_stack, _, _ = play(stack, rounds, chip, end)\n",
    "    h_win_count.append(history_stack[-1] - stack)"
   ]
  },
  {
   "cell_type": "code",
   "execution_count": 820,
   "metadata": {},
   "outputs": [
    {
     "name": "stdout",
     "output_type": "stream",
     "text": [
      "mean =  -1100\n"
     ]
    }
   ],
   "source": [
    "mean = sum(h_win_count)\n",
    "print('mean = ', mean)"
   ]
  },
  {
   "cell_type": "code",
   "execution_count": 821,
   "metadata": {},
   "outputs": [
    {
     "data": {
      "text/plain": [
       "[<matplotlib.lines.Line2D at 0x279903c8cc8>]"
      ]
     },
     "execution_count": 821,
     "metadata": {},
     "output_type": "execute_result"
    },
    {
     "data": {
      "image/png": "[encoded data removed]",
      "text/plain": [
       "<Figure size 1080x432 with 1 Axes>"
      ]
     },
     "metadata": {
      "needs_background": "light"
     },
     "output_type": "display_data"
    }
   ],
   "source": [
    "plt.figure(figsize=(15, 6))\n",
    "plt.plot(h_win_count, '.')"
   ]
  },
  {
   "cell_type": "code",
   "execution_count": 694,
   "metadata": {},
   "outputs": [
    {
     "data": {
      "text/plain": [
       "8"
      ]
     },
     "execution_count": 694,
     "metadata": {},
     "output_type": "execute_result"
    }
   ],
   "source": [
    "-97 + 35*3"
   ]
  },
  {
   "cell_type": "code",
   "execution_count": 835,
   "metadata": {},
   "outputs": [
    {
     "data": {
      "text/plain": [
       "-1.3513513513513509"
      ]
     },
     "execution_count": 835,
     "metadata": {},
     "output_type": "execute_result"
    }
   ],
   "source": [
    "((10 / 37 * 26) - (27 / 37 * 10)) * 5"
   ]
  },
  {
   "cell_type": "code",
   "execution_count": null,
   "metadata": {},
   "outputs": [],
   "source": []
  }
 ],
 "metadata": {
  "kernelspec": {
   "display_name": "Python 3",
   "language": "python",
   "name": "python3"
  },
  "language_info": {
   "codemirror_mode": {
    "name": "ipython",
    "version": 3
   },
   "file_extension": ".py",
   "mimetype": "text/x-python",
   "name": "python",
   "nbconvert_exporter": "python",
   "pygments_lexer": "ipython3",
   "version": "3.7.4"
  }
 },
 "nbformat": 4,
 "nbformat_minor": 2
}
